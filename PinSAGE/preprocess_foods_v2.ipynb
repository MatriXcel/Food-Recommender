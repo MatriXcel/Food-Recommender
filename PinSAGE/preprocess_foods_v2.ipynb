{
 "cells": [
  {
   "cell_type": "code",
   "execution_count": 629,
   "metadata": {},
   "outputs": [],
   "source": [
    "import pandas as pd"
   ]
  },
  {
   "cell_type": "code",
   "execution_count": 630,
   "metadata": {},
   "outputs": [],
   "source": [
    "recipes_df = pd.read_csv(\"RAW_recipes.csv\")"
   ]
  },
  {
   "cell_type": "code",
   "execution_count": 631,
   "metadata": {},
   "outputs": [],
   "source": [
    "recipes_df = recipes_df.rename({'id': 'recipe_id'}, axis='columns')"
   ]
  },
  {
   "cell_type": "code",
   "execution_count": 632,
   "metadata": {},
   "outputs": [],
   "source": [
    "interactions_df = pd.read_csv(\"RAW_interactions.csv\")"
   ]
  },
  {
   "cell_type": "code",
   "execution_count": 633,
   "metadata": {},
   "outputs": [
    {
     "data": {
      "text/plain": [
       "226570"
      ]
     },
     "execution_count": 633,
     "metadata": {},
     "output_type": "execute_result"
    }
   ],
   "source": [
    "len(interactions_df['user_id'].unique())"
   ]
  },
  {
   "cell_type": "code",
   "execution_count": 634,
   "metadata": {},
   "outputs": [],
   "source": [
    "recipes_df = recipes_df[~recipes_df.isnull().any(axis=1)]"
   ]
  },
  {
   "cell_type": "code",
   "execution_count": 635,
   "metadata": {},
   "outputs": [],
   "source": [
    "distinct_interactions_in_recipes = interactions_df['recipe_id'].isin(recipes_df['recipe_id'])\n",
    "interactions_df = interactions_df[distinct_interactions_in_recipes]"
   ]
  },
  {
   "cell_type": "code",
   "execution_count": 636,
   "metadata": {},
   "outputs": [
    {
     "data": {
      "text/plain": [
       "223316"
      ]
     },
     "execution_count": 636,
     "metadata": {},
     "output_type": "execute_result"
    }
   ],
   "source": [
    "len(interactions_df['user_id'].unique())"
   ]
  },
  {
   "cell_type": "code",
   "execution_count": 637,
   "metadata": {},
   "outputs": [
    {
     "data": {
      "text/plain": [
       "1108856"
      ]
     },
     "execution_count": 637,
     "metadata": {},
     "output_type": "execute_result"
    }
   ],
   "source": [
    "len(interactions_df)"
   ]
  },
  {
   "cell_type": "code",
   "execution_count": 638,
   "metadata": {},
   "outputs": [],
   "source": [
    "#interactions_df.to_csv('reduced_interactions.csv')"
   ]
  },
  {
   "cell_type": "code",
   "execution_count": 639,
   "metadata": {},
   "outputs": [],
   "source": [
    "user_ids_df = pd.DataFrame({ 'user_id': interactions_df['user_id'].unique()  })"
   ]
  },
  {
   "cell_type": "code",
   "execution_count": 640,
   "metadata": {},
   "outputs": [],
   "source": [
    "from builder import PandasGraphBuilder"
   ]
  },
  {
   "cell_type": "code",
   "execution_count": 641,
   "metadata": {},
   "outputs": [],
   "source": [
    "graph_builder = PandasGraphBuilder()\n",
    "\n",
    "graph_builder.add_entities(user_ids_df, 'user_id', 'user')\n",
    "graph_builder.add_entities(recipes_df, 'recipe_id', 'recipe')\n",
    "graph_builder.add_binary_relations(interactions_df, 'user_id', 'recipe_id', 'interacted')\n",
    "graph_builder.add_binary_relations(interactions_df, 'recipe_id', 'user_id', 'interacted-by')"
   ]
  },
  {
   "cell_type": "code",
   "execution_count": 642,
   "metadata": {},
   "outputs": [],
   "source": [
    "g = graph_builder.build()"
   ]
  },
  {
   "cell_type": "code",
   "execution_count": 643,
   "metadata": {},
   "outputs": [],
   "source": [
    "import numpy as np"
   ]
  },
  {
   "cell_type": "code",
   "execution_count": 644,
   "metadata": {},
   "outputs": [],
   "source": [
    "interactions_df['date_processed'] = pd.to_datetime(interactions_df['date']).astype(np.int64)\n",
    "interactions_df['date_processed'] = interactions_df['date_processed'] // 10 ** 9"
   ]
  },
  {
   "cell_type": "code",
   "execution_count": 645,
   "metadata": {},
   "outputs": [],
   "source": [
    "#nutrition_tensor = np.empty((len(recipes_df['nutrition']), 3))\n",
    "str_nutrition_tensor = []"
   ]
  },
  {
   "cell_type": "code",
   "execution_count": 646,
   "metadata": {},
   "outputs": [],
   "source": [
    "def convert_to_array(x): \n",
    "    global str_nutrition_tensor\n",
    "    \n",
    "    row = x.strip('[]').split(',')\n",
    "    str_nutrition_tensor.append(row)\n"
   ]
  },
  {
   "cell_type": "code",
   "execution_count": 647,
   "metadata": {},
   "outputs": [
    {
     "data": {
      "text/plain": [
       "0         None\n",
       "1         None\n",
       "2         None\n",
       "3         None\n",
       "4         None\n",
       "          ... \n",
       "231632    None\n",
       "231633    None\n",
       "231634    None\n",
       "231635    None\n",
       "231636    None\n",
       "Name: nutrition, Length: 226657, dtype: object"
      ]
     },
     "execution_count": 647,
     "metadata": {},
     "output_type": "execute_result"
    }
   ],
   "source": [
    "recipes_df['nutrition'].astype('str').apply(convert_to_array)"
   ]
  },
  {
   "cell_type": "code",
   "execution_count": 648,
   "metadata": {},
   "outputs": [],
   "source": [
    "nutrition_tensor = np.array(str_nutrition_tensor).astype('float')"
   ]
  },
  {
   "cell_type": "code",
   "execution_count": 649,
   "metadata": {},
   "outputs": [
    {
     "data": {
      "text/plain": [
       "(226657, 7)"
      ]
     },
     "execution_count": 649,
     "metadata": {},
     "output_type": "execute_result"
    }
   ],
   "source": [
    "nutrition_tensor.shape"
   ]
  },
  {
   "cell_type": "code",
   "execution_count": 650,
   "metadata": {},
   "outputs": [],
   "source": [
    "import torch\n",
    "\n",
    "g.edges['interacted'].data['rating'] = torch.LongTensor(interactions_df['rating'].values)\n",
    "g.edges['interacted'].data['date_processed'] = torch.LongTensor(interactions_df['date_processed'].values)\n",
    "\n",
    "g.edges['interacted-by'].data['rating'] = torch.LongTensor(interactions_df['rating'].values)\n",
    "g.edges['interacted-by'].data['date_processed'] = torch.LongTensor(interactions_df['date_processed'].values)\n",
    "\n",
    "#g.nodes['recipe'].data['nutrition'] = torch.FloatTensor(nutrition_tensor)"
   ]
  },
  {
   "cell_type": "code",
   "execution_count": 651,
   "metadata": {},
   "outputs": [],
   "source": [
    "#'description': recipes_df['description'].values\n",
    "recipe_textual_dataset = {'name': recipes_df['name'].values}"
   ]
  },
  {
   "cell_type": "code",
   "execution_count": 652,
   "metadata": {},
   "outputs": [],
   "source": [
    "import json\n",
    " \n",
    "f = open('new_indices(4).json')\n",
    "data = json.load(f)"
   ]
  },
  {
   "cell_type": "code",
   "execution_count": 653,
   "metadata": {},
   "outputs": [],
   "source": [
    "train_indices = np.array(data['train'])\n",
    "test_indices = np.array(data['test'])\n",
    "val_indices = np.array(data['val'])"
   ]
  },
  {
   "cell_type": "code",
   "execution_count": 654,
   "metadata": {},
   "outputs": [],
   "source": [
    "from data_utils import *"
   ]
  },
  {
   "cell_type": "code",
   "execution_count": 655,
   "metadata": {},
   "outputs": [],
   "source": [
    "#train_indices, val_indices, test_indices = train_test_split_by_time(interactions_df, 'date_processed', 'user_id')"
   ]
  },
  {
   "cell_type": "code",
   "execution_count": 656,
   "metadata": {},
   "outputs": [],
   "source": [
    "train_g = build_train_graph(g, train_indices, 'user', 'recipe', 'interacted', 'interacted-by')"
   ]
  },
  {
   "cell_type": "code",
   "execution_count": 657,
   "metadata": {},
   "outputs": [],
   "source": [
    "val_matrix, test_matrix = build_val_test_matrix(g, val_indices, test_indices, 'user', 'recipe', 'interacted')"
   ]
  },
  {
   "cell_type": "code",
   "execution_count": 658,
   "metadata": {},
   "outputs": [],
   "source": [
    "graph_slice = train_g.edge_type_subgraph(['interacted'])\n",
    "latest_interactions = dgl.sampling.select_topk(graph_slice, 1, 'date_processed', edge_dir='out')\n",
    "user, latest_items = latest_interactions.all_edges(form='uv', order='srcdst')"
   ]
  },
  {
   "cell_type": "code",
   "execution_count": 659,
   "metadata": {},
   "outputs": [
    {
     "data": {
      "text/plain": [
       "True"
      ]
     },
     "execution_count": 659,
     "metadata": {},
     "output_type": "execute_result"
    }
   ],
   "source": [
    "torch.equal(user, torch.arange(train_g.number_of_nodes('user')))"
   ]
  },
  {
   "cell_type": "code",
   "execution_count": 660,
   "metadata": {},
   "outputs": [],
   "source": [
    "import pickle\n",
    "\n",
    "#no item-texts data for now, so just initialized that to an empty dictionary so model.py doesn't complain\n",
    "\n",
    "dataset = {\n",
    "    'train-graph': train_g,\n",
    "    'val-matrix': val_matrix,\n",
    "    'test-matrix': test_matrix,\n",
    "    'item-texts': recipe_textual_dataset,\n",
    "    'item-images': None,\n",
    "    'user-type': 'user',\n",
    "    'item-type': 'recipe',\n",
    "    'user-to-item-type': 'interacted',\n",
    "    'item-to-user-type': 'interacted-by',\n",
    "    'timestamp-edge-column': 'date_processed'}\n",
    "\n",
    "with open(\"text_data_6.pkl\", 'wb') as f:\n",
    "    pickle.dump(dataset, f)"
   ]
  }
 ],
 "metadata": {
  "interpreter": {
   "hash": "1bd3c55920bbe0d32c90842d61481cbcc95aaecf87c3e893d13a249a55a9c3e4"
  },
  "kernelspec": {
   "display_name": "Python 3.8.8 64-bit ('base': conda)",
   "language": "python",
   "name": "python3"
  },
  "language_info": {
   "codemirror_mode": {
    "name": "ipython",
    "version": 3
   },
   "file_extension": ".py",
   "mimetype": "text/x-python",
   "name": "python",
   "nbconvert_exporter": "python",
   "pygments_lexer": "ipython3",
   "version": "3.8.8"
  },
  "orig_nbformat": 4
 },
 "nbformat": 4,
 "nbformat_minor": 2
}
